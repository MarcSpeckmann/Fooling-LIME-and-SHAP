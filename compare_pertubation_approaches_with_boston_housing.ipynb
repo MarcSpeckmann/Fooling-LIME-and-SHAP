{
 "cells": [
  {
   "cell_type": "code",
   "execution_count": null,
   "id": "9014d72a-8808-457d-8dbe-450a7f961319",
   "metadata": {},
   "outputs": [],
   "source": [
    "import os\n",
    "\n",
    "import pandas as pd\n",
    "from sklearn.ensemble import RandomForestRegressor\n",
    "from sklearn.model_selection import train_test_split\n",
    "from sklearn.preprocessing import MinMaxScaler\n",
    "\n",
    "from fooling_LIME_SHAP_Interface.adversarial_model_toolbox import AdversarialModelToolbox\n",
    "from fooling_LIME_SHAP_Interface.util.explainer_type import ExplainerType\n",
    "from fooling_LIME_SHAP_Interface.util.ml_type import MLType"
   ]
  },
  {
   "cell_type": "code",
   "execution_count": null,
   "id": "b65a6d49-4d90-40e4-898e-04cd325c10e9",
   "metadata": {},
   "outputs": [],
   "source": [
    "TRAIN_TEST_SPLIT = 0.2\n",
    "SEED = 666\n",
    "\n",
    "dataset_name = 'HousingData'\n",
    "input_ids = list(range(13))\n",
    "categorical_input_ids = []\n",
    "output_id = 13\n",
    "biased_id = 11"
   ]
  },
  {
   "cell_type": "code",
   "execution_count": null,
   "id": "8b6914d5-6817-4819-9437-f920c2c7c896",
   "metadata": {},
   "outputs": [],
   "source": [
    "# Load dataset\n",
    "house_df = pd.read_csv(os.path.join(\"datasets\", dataset_name + \".csv\"))\n",
    "house_df = house_df.fillna(0)\n",
    "\n",
    "# Split input and output\n",
    "y_df = house_df.iloc[:, output_id]\n",
    "x_df = house_df.iloc[:, input_ids]\n",
    "\n",
    "scaler = MinMaxScaler()\n",
    "scaler.fit(x_df.to_numpy())\n",
    "x = scaler.transform(x_df.to_numpy())\n",
    "\n",
    "# Create train and test data\n",
    "x_train, x_test, y_train, y_test = train_test_split(x, y_df.to_numpy(), test_size=TRAIN_TEST_SPLIT, random_state=SEED)\n",
    "\n",
    "# Create training data without biased column\n",
    "ux_train = x_train.copy()\n",
    "ux_train[:, input_ids.index(biased_id)] = 0\n",
    "ux_test = x_test.copy()\n",
    "ux_test[:, input_ids.index(biased_id)] = 0"
   ]
  },
  {
   "cell_type": "code",
   "execution_count": null,
   "id": "63d9335a-0ef0-420a-9946-8425eecca75a",
   "metadata": {},
   "outputs": [],
   "source": [
    "biased_ml = RandomForestRegressor(random_state=SEED)\n",
    "biased_ml.fit(x_train, y_train)\n",
    "print(\"Accuracy of biased model: {0:3.2}\".format(biased_ml.score(x_test, y_test)))"
   ]
  },
  {
   "cell_type": "code",
   "execution_count": null,
   "id": "c13b056b-c790-4633-9c4d-f0e0488f2798",
   "metadata": {},
   "outputs": [],
   "source": [
    "unbiased_ml = RandomForestRegressor(random_state=SEED)\n",
    "unbiased_ml.fit(ux_test, y_test)\n",
    "print(\"Accuracy of unbiased model: {0:3.2}\".format(unbiased_ml.score(ux_test, y_test)))"
   ]
  }
 ],
 "metadata": {
  "kernelspec": {
   "display_name": "Python 3 (ipykernel)",
   "language": "python",
   "name": "python3"
  },
  "language_info": {
   "codemirror_mode": {
    "name": "ipython",
    "version": 3
   },
   "file_extension": ".py",
   "mimetype": "text/x-python",
   "name": "python",
   "nbconvert_exporter": "python",
   "pygments_lexer": "ipython3",
   "version": "3.9.10"
  }
 },
 "nbformat": 4,
 "nbformat_minor": 5
}
