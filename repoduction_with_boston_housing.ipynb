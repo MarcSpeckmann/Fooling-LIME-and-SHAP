{
 "cells": [
  {
   "cell_type": "markdown",
   "id": "c30661e9-6256-4345-813c-869e5aeb97ce",
   "metadata": {},
   "source": [
    "# Fooling LIME and SHAP\n",
    "## Reproduction (10)\n",
    "\n",
    "Implement the approach by writting a simple interface/framework and confirm yiur implementation by using any (tabular) raciscm dataset (e.g. Boston Housing)"
   ]
  },
  {
   "cell_type": "code",
   "execution_count": 1,
   "id": "50e4479b-2610-4ac4-be4a-b5197590f0b8",
   "metadata": {},
   "outputs": [],
   "source": [
    "import os\n",
    "\n",
    "import pandas as pd\n",
    "from sklearn.ensemble import RandomForestRegressor\n",
    "from sklearn.model_selection import train_test_split\n",
    "from sklearn.preprocessing import MinMaxScaler\n",
    "\n",
    "from fooling_LIME_SHAP_Interface.adversarial_model_toolbox import AdversarialModelToolbox\n",
    "from fooling_LIME_SHAP_Interface.util.explainer_type import ExplainerType\n",
    "from fooling_LIME_SHAP_Interface.util.ml_type import MLType"
   ]
  },
  {
   "cell_type": "markdown",
   "id": "d1a77f8f-a355-4d0c-bd3d-85e43b946d1d",
   "metadata": {},
   "source": [
    "First we define all the neccessary variables."
   ]
  },
  {
   "cell_type": "code",
   "execution_count": 2,
   "id": "e68705fa-c888-4d2a-88b9-22d290655ea2",
   "metadata": {},
   "outputs": [],
   "source": [
    "TRAIN_TEST_SPLIT = 0.2\n",
    "SEED = 666\n",
    "\n",
    "dataset_name = 'HousingData'\n",
    "input_ids = list(range(13))\n",
    "categorical_input_ids = []\n",
    "output_id = 13\n",
    "biased_id = 12  # Using LSTAT as biased feature for demonstration purposes\n",
    "\n",
    "categorical_input_ids = [input_ids.index(cat_id) for cat_id in categorical_input_ids]\n",
    "biased_id = input_ids.index(biased_id)"
   ]
  },
  {
   "cell_type": "markdown",
   "id": "8d5bce39-34e7-45de-82f8-4327d94a0de8",
   "metadata": {},
   "source": [
    "Loading the dataset and doing some preprocessing. There are two datasets. One Dataset is with the biased feature and the other dataset is unbiased because all rows from the biased feature are set to 0."
   ]
  },
  {
   "cell_type": "code",
   "execution_count": 3,
   "id": "e5dadf37-027e-4086-967e-d7bc75e7cafc",
   "metadata": {
    "tags": []
   },
   "outputs": [],
   "source": [
    "# Load dataset\n",
    "house_df = pd.read_csv(os.path.join(\"datasets\", dataset_name + \".csv\"))\n",
    "house_df = house_df.fillna(0)\n",
    "\n",
    "# Split input and output\n",
    "y_df = house_df.iloc[:, output_id]\n",
    "x_df = house_df.iloc[:, input_ids]\n",
    "\n",
    "scaler = MinMaxScaler()\n",
    "scaler.fit(x_df.to_numpy())\n",
    "x = scaler.transform(x_df.to_numpy())\n",
    "\n",
    "# Create train and test data\n",
    "x_train, x_test, y_train, y_test = train_test_split(x, y_df.to_numpy(), test_size=TRAIN_TEST_SPLIT, random_state=SEED)\n",
    "\n",
    "# Create training data without biased column\n",
    "ux_train = x_train.copy()\n",
    "ux_train[:, biased_id] = 0\n",
    "ux_test = x_test.copy()\n",
    "ux_test[:, biased_id] = 0"
   ]
  },
  {
   "cell_type": "markdown",
   "id": "1d7dd816-7c40-415a-b9ad-b07ebbafd69e",
   "metadata": {},
   "source": [
    "Train the biased and unbiased ML model"
   ]
  },
  {
   "cell_type": "code",
   "execution_count": 4,
   "id": "b41862d9-3705-4712-ad32-993960dd9afa",
   "metadata": {},
   "outputs": [
    {
     "name": "stdout",
     "output_type": "stream",
     "text": [
      "Accuracy of biased model: 0.82\n"
     ]
    }
   ],
   "source": [
    "biased_ml = RandomForestRegressor(random_state=SEED)\n",
    "biased_ml.fit(x_train, y_train)\n",
    "print(\"Accuracy of biased model: {0:3.2}\".format(biased_ml.score(x_test, y_test)))"
   ]
  },
  {
   "cell_type": "code",
   "execution_count": 5,
   "id": "23270d54-e32e-45cf-9e68-14c6efbb67a3",
   "metadata": {},
   "outputs": [
    {
     "name": "stdout",
     "output_type": "stream",
     "text": [
      "Accuracy of unbiased model: 0.95\n"
     ]
    }
   ],
   "source": [
    "unbiased_ml = RandomForestRegressor(random_state=SEED)\n",
    "unbiased_ml.fit(ux_test, y_test)\n",
    "print(\"Accuracy of unbiased model: {0:3.2}\".format(unbiased_ml.score(ux_test, y_test)))"
   ]
  },
  {
   "cell_type": "markdown",
   "id": "d2ce0bcc-2813-40d8-8973-a60157cae461",
   "metadata": {},
   "source": [
    "## Get Lime Explanations"
   ]
  },
  {
   "cell_type": "code",
   "execution_count": 6,
   "id": "6c4846aa-5488-4857-87c3-1271a8182bb9",
   "metadata": {},
   "outputs": [
    {
     "name": "stdout",
     "output_type": "stream",
     "text": [
      "Calculating Lime explanations\n",
      "Original Lime explanation:\n",
      "{'CRIM': -0.5755443443865172, 'ZN': 0.03438975601120789, 'INDUS': 0.01703075450561726, 'CHAS': 0.014586099595466745, 'NOX': -0.45925639555863423, 'RM': 3.9245022283364555, 'AGE': -0.031155411678851865, 'DIS': -1.8667575787751114, 'RAD': 0.020245962944362896, 'TAX': -0.5501921125595892, 'PTRATIO': -0.5101799545223372, 'B': 0.05869295737572275, 'LSTAT': -2.930593439596396}\n",
      "Adversarial Lime explanation:\n",
      "{'CRIM': -1.109377445020716, 'ZN': 0.004166132188989345, 'INDUS': -0.1858097159816457, 'CHAS': 0.0015158414551702595, 'NOX': -0.042957027319454645, 'RM': 4.217979642146159, 'AGE': -0.5977910553735841, 'DIS': -2.00318935275961, 'RAD': -0.05605048193779706, 'TAX': -0.391632836065887, 'PTRATIO': -0.5887911736712922, 'B': 0.010829356185973514, 'LSTAT': 0.002347361612129156}\n",
      "Prediction fidelity between original and adversarial model: 1.0\n"
     ]
    }
   ],
   "source": [
    "adv = AdversarialModelToolbox(biased_model=biased_ml, \n",
    "                              x_train=x_train, \n",
    "                              y_train=y_train, \n",
    "                              x_test=x_test, \n",
    "                              y_test=y_test,\n",
    "                              input_feature_names=house_df.columns[input_ids].tolist(),\n",
    "                              categorical_feature_indices=categorical_input_ids,\n",
    "                              unbiased_model=unbiased_ml,\n",
    "                              biased_id=biased_id, \n",
    "                              fool_explainer_type=ExplainerType.LIME,\n",
    "                              ml_type=MLType.REGRESSION, \n",
    "                              seed=SEED)\n",
    "adv.train()\n",
    "adv.get_explanations(explanation_sample_number=-1)"
   ]
  },
  {
   "cell_type": "markdown",
   "id": "209e9d0e-e231-4455-809e-49cc5e08d518",
   "metadata": {},
   "source": [
    "## Get Shap Explanations"
   ]
  },
  {
   "cell_type": "code",
   "execution_count": 7,
   "id": "6fb0216d-ed23-4357-8e90-dfa84dba8a91",
   "metadata": {},
   "outputs": [
    {
     "name": "stdout",
     "output_type": "stream",
     "text": [
      "Calculating Shap explanations\n"
     ]
    },
    {
     "data": {
      "application/vnd.jupyter.widget-view+json": {
       "model_id": "926a5e985d6541198d34bd9782eb46b1",
       "version_major": 2,
       "version_minor": 0
      },
      "text/plain": [
       "  0%|          | 0/101 [00:00<?, ?it/s]"
      ]
     },
     "metadata": {},
     "output_type": "display_data"
    },
    {
     "name": "stdout",
     "output_type": "stream",
     "text": [
      "Original Shap explanation:\n"
     ]
    },
    {
     "data": {
      "image/png": "[encoded data removed]",
      "text/plain": [
       "<Figure size 576x482.4 with 1 Axes>"
      ]
     },
     "metadata": {
      "needs_background": "light"
     },
     "output_type": "display_data"
    },
    {
     "data": {
      "application/vnd.jupyter.widget-view+json": {
       "model_id": "19f40ffcc50b41c888d1fa6132c5dff9",
       "version_major": 2,
       "version_minor": 0
      },
      "text/plain": [
       "  0%|          | 0/101 [00:00<?, ?it/s]"
      ]
     },
     "metadata": {},
     "output_type": "display_data"
    },
    {
     "name": "stdout",
     "output_type": "stream",
     "text": [
      "Adversarial Shap explanation:\n"
     ]
    },
    {
     "data": {
      "image/png": "[encoded data removed]",
      "text/plain": [
       "<Figure size 576x482.4 with 1 Axes>"
      ]
     },
     "metadata": {
      "needs_background": "light"
     },
     "output_type": "display_data"
    },
    {
     "name": "stdout",
     "output_type": "stream",
     "text": [
      "Prediction fidelity between original and adversarial model: 0.89\n"
     ]
    }
   ],
   "source": [
    "adv = AdversarialModelToolbox(biased_model=biased_ml,\n",
    "                              x_train=x_train, \n",
    "                              y_train=y_train,\n",
    "                              x_test=x_test, \n",
    "                              y_test=y_test,\n",
    "                              input_feature_names=house_df.columns[input_ids].tolist(),\n",
    "                              categorical_feature_indices=categorical_input_ids,\n",
    "                              unbiased_model=unbiased_ml,\n",
    "                              biased_id=biased_id, \n",
    "                              fool_explainer_type=ExplainerType.SHAP,\n",
    "                              ml_type=MLType.REGRESSION, \n",
    "                              seed=SEED)\n",
    "adv.train()\n",
    "adv.get_explanations(explanation_sample_number=-1)"
   ]
  },
  {
   "cell_type": "code",
   "execution_count": null,
   "id": "40185c0e-9ee6-46be-b58f-64bf7377ae9f",
   "metadata": {},
   "outputs": [],
   "source": []
  }
 ],
 "metadata": {
  "kernelspec": {
   "display_name": "Python 3 (ipykernel)",
   "language": "python",
   "name": "python3"
  },
  "language_info": {
   "codemirror_mode": {
    "name": "ipython",
    "version": 3
   },
   "file_extension": ".py",
   "mimetype": "text/x-python",
   "name": "python",
   "nbconvert_exporter": "python",
   "pygments_lexer": "ipython3",
   "version": "3.9.10"
  }
 },
 "nbformat": 4,
 "nbformat_minor": 5
}
