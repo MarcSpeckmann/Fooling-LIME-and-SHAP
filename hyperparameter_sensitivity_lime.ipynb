{
 "cells": [
  {
   "cell_type": "markdown",
   "id": "c30661e9-6256-4345-813c-869e5aeb97ce",
   "metadata": {},
   "source": [
    "# Fooling LIME and SHAP\n",
    "## Hyperparameter Sensitivity (10)\n",
    "\n",
    "Analyze the impact of the hyperparameters of LIME and SHAP (e.g., hyperparameters of the local model and of the pertubation algorithms)."
   ]
  },
  {
   "cell_type": "code",
   "execution_count": 1,
   "id": "50e4479b-2610-4ac4-be4a-b5197590f0b8",
   "metadata": {},
   "outputs": [],
   "source": [
    "import os\n",
    "\n",
    "import pandas as pd\n",
    "from sklearn.ensemble import RandomForestRegressor\n",
    "from sklearn.model_selection import train_test_split\n",
    "from sklearn.preprocessing import MinMaxScaler\n",
    "\n",
    "from fooling_LIME_SHAP_Interface.adversarial_model_toolbox import AdversarialModelToolbox\n",
    "from fooling_LIME_SHAP_Interface.perturbator import Perturbator\n",
    "from fooling_LIME_SHAP_Interface.util.explainer_type import ExplainerType\n",
    "from fooling_LIME_SHAP_Interface.util.ml_type import MLType\n",
    "from fooling_LIME_SHAP_Interface.util.pertubation_method import PerturbationMethod"
   ]
  },
  {
   "cell_type": "markdown",
   "id": "d1a77f8f-a355-4d0c-bd3d-85e43b946d1d",
   "metadata": {},
   "source": [
    "First we define all the neccessary variables."
   ]
  },
  {
   "cell_type": "code",
   "execution_count": 2,
   "id": "e68705fa-c888-4d2a-88b9-22d290655ea2",
   "metadata": {},
   "outputs": [],
   "source": [
    "TRAIN_TEST_SPLIT = 0.2\n",
    "SEED = 666\n",
    "\n",
    "dataset_name = 'HousingData'\n",
    "input_ids = list(range(13))\n",
    "categorical_input_ids = []\n",
    "output_id = 13\n",
    "biased_id = 11  # B\n",
    "\n",
    "categorical_input_ids = [input_ids.index(cat_id) for cat_id in categorical_input_ids]\n",
    "biased_id = input_ids.index(biased_id)"
   ]
  },
  {
   "cell_type": "markdown",
   "id": "8d5bce39-34e7-45de-82f8-4327d94a0de8",
   "metadata": {},
   "source": [
    "Loading the dataset and doing some preprocessing. There are two datasets. One Dataset is with the biased feature and the other dataset is unbiased because all rows from the biased feature are set to 0."
   ]
  },
  {
   "cell_type": "code",
   "execution_count": 3,
   "id": "e5dadf37-027e-4086-967e-d7bc75e7cafc",
   "metadata": {
    "tags": []
   },
   "outputs": [],
   "source": [
    "# Load dataset\n",
    "house_df = pd.read_csv(os.path.join(\"datasets\", dataset_name + \".csv\"))\n",
    "house_df = house_df.fillna(0)\n",
    "\n",
    "# Split input and output\n",
    "y_df = house_df.iloc[:, output_id]\n",
    "x_df = house_df.iloc[:, input_ids]\n",
    "\n",
    "scaler = MinMaxScaler()\n",
    "scaler.fit(x_df.to_numpy())\n",
    "x = scaler.transform(x_df.to_numpy())\n",
    "\n",
    "# Create train and test data\n",
    "x_train, x_test, y_train, y_test = train_test_split(x, y_df.to_numpy(), test_size=TRAIN_TEST_SPLIT, random_state=SEED)\n",
    "\n",
    "# Create training data without biased column\n",
    "ux_train = x_train.copy()\n",
    "ux_train[:, biased_id] = 0\n",
    "ux_test = x_test.copy()\n",
    "ux_test[:, biased_id] = 0"
   ]
  },
  {
   "cell_type": "markdown",
   "id": "1d7dd816-7c40-415a-b9ad-b07ebbafd69e",
   "metadata": {},
   "source": [
    "Train the biased and unbiased ML model"
   ]
  },
  {
   "cell_type": "code",
   "execution_count": 4,
   "id": "b41862d9-3705-4712-ad32-993960dd9afa",
   "metadata": {},
   "outputs": [
    {
     "name": "stdout",
     "output_type": "stream",
     "text": [
      "Accuracy of biased model: 0.82\n"
     ]
    }
   ],
   "source": [
    "biased_ml = RandomForestRegressor(random_state=SEED)\n",
    "biased_ml.fit(x_train, y_train)\n",
    "print(\"Accuracy of biased model: {0:3.2}\".format(biased_ml.score(x_test, y_test)))"
   ]
  },
  {
   "cell_type": "code",
   "execution_count": 5,
   "id": "23270d54-e32e-45cf-9e68-14c6efbb67a3",
   "metadata": {},
   "outputs": [
    {
     "name": "stdout",
     "output_type": "stream",
     "text": [
      "Accuracy of unbiased model: 0.96\n"
     ]
    }
   ],
   "source": [
    "unbiased_ml = RandomForestRegressor(random_state=SEED)\n",
    "unbiased_ml.fit(ux_test, y_test)\n",
    "print(\"Accuracy of unbiased model: {0:3.2}\".format(unbiased_ml.score(ux_test, y_test)))"
   ]
  },
  {
   "cell_type": "markdown",
   "id": "d2ce0bcc-2813-40d8-8973-a60157cae461",
   "metadata": {},
   "source": [
    "for estimators in [1, 5, 10, 20]:\n",
    "    print(\"============================== n_kmeans: {} ==============================\".format(estimators))\n",
    "    adv = AdversarialModelToolbox(biased_model=biased_ml, \n",
    "                                  x_train=x_train, \n",
    "                                  y_train=y_train, \n",
    "                                  x_test=x_test, \n",
    "                                  y_test=y_test,\n",
    "                                  input_feature_names=house_df.columns[input_ids].tolist(),\n",
    "                                  categorical_feature_indices=categorical_input_ids,\n",
    "                                  unbiased_model=unbiased_ml,\n",
    "                                  biased_id=biased_id, \n",
    "                                  fool_explainer_type=ExplainerType.SHAP,\n",
    "                                  ml_type=MLType.REGRESSION, \n",
    "                                  seed=SEED)\n",
    "    adv.train(rf_estimators=estimators, perturbator=Perturbator(PerturbationMethod.SUBSTITUTIONS, perturbation_multiplier=10, n_kmeans=10, n_samples=2e4, seed=SEED))\n",
    "    adv.get_explanations(explanation_sample_number=-1)## Hyperparameter sensitivity local model"
   ]
  },
  {
   "cell_type": "code",
   "execution_count": 6,
   "id": "fe725ec3-a8ef-4522-b0a3-c43d8ee7ea30",
   "metadata": {},
   "outputs": [
    {
     "name": "stdout",
     "output_type": "stream",
     "text": [
      "============================== rf_estimators: 1 ==============================\n",
      "Calculating Lime explanations\n",
      "Original Lime explanation:\n",
      "{'RM': 3.9245022283364555, 'LSTAT': -2.930593439596396, 'DIS': -1.8667575787751114, 'CRIM': -0.5755443443865172, 'TAX': -0.5501921125595892, 'PTRATIO': -0.5101799545223372, 'NOX': -0.45925639555863423, 'AGE': -0.031155411678851865, 'B': 0.05869295737572275, 'CHAS': 0.014586099595466745, 'ZN': 0.03438975601120789, 'RAD': 0.020245962944362896, 'INDUS': 0.01703075450561726}\n",
      "Adversarial Lime explanation:\n",
      "{'LSTAT': -4.620809295155651, 'RM': 2.107724842231777, 'DIS': -1.1443293479857988, 'CRIM': 0.702925264076124, 'AGE': -0.21594084145606635, 'PTRATIO': -0.26072617190938885, 'NOX': -0.1153618531182298, 'TAX': -0.0651852367594385, 'RAD': 0.00024684444994439107, 'CHAS': 0.0028184915642736038, 'INDUS': -0.0879568865179662, 'B': -0.00044577468381569305, 'ZN': 0.0007857395341092149}\n",
      "Prediction fidelity between original and adversarial model: 1.0\n",
      "============================== rf_estimators: 10 ==============================\n",
      "Calculating Lime explanations\n",
      "Original Lime explanation:\n",
      "{'RM': 3.9245022283364555, 'LSTAT': -2.930593439596396, 'DIS': -1.8667575787751114, 'CRIM': -0.5755443443865172, 'TAX': -0.5501921125595892, 'PTRATIO': -0.5101799545223372, 'NOX': -0.45925639555863423, 'AGE': -0.031155411678851865, 'B': 0.05869295737572275, 'CHAS': 0.014586099595466745, 'ZN': 0.03438975601120789, 'RAD': 0.020245962944362896, 'INDUS': 0.01703075450561726}\n",
      "Adversarial Lime explanation:\n",
      "{'LSTAT': -4.656813019509242, 'RM': 2.061942777201031, 'DIS': -1.1395806743551269, 'CRIM': 0.7084006766886376, 'AGE': -0.21754840511311854, 'PTRATIO': -0.2567471539802317, 'NOX': -0.11263136683552011, 'TAX': -0.06155899753439553, 'RAD': -0.002004126551633579, 'CHAS': -0.0029232812005463896, 'INDUS': -0.08900258669563994, 'B': -0.0029486439735275133, 'ZN': -0.00290554733793634}\n",
      "Prediction fidelity between original and adversarial model: 1.0\n",
      "============================== rf_estimators: 100 ==============================\n",
      "Calculating Lime explanations\n",
      "Original Lime explanation:\n",
      "{'RM': 3.9245022283364555, 'LSTAT': -2.930593439596396, 'DIS': -1.8667575787751114, 'CRIM': -0.5755443443865172, 'TAX': -0.5501921125595892, 'PTRATIO': -0.5101799545223372, 'NOX': -0.45925639555863423, 'AGE': -0.031155411678851865, 'B': 0.05869295737572275, 'CHAS': 0.014586099595466745, 'ZN': 0.03438975601120789, 'RAD': 0.020245962944362896, 'INDUS': 0.01703075450561726}\n",
      "Adversarial Lime explanation:\n",
      "{'LSTAT': -4.657096914564162, 'RM': 2.0616448581806903, 'DIS': -1.1395683990432652, 'CRIM': 0.708448842947583, 'AGE': -0.21771390828407022, 'PTRATIO': -0.2565544686845552, 'NOX': -0.11260835423411697, 'TAX': -0.06159805308584028, 'RAD': -0.001980128377614111, 'CHAS': -0.0030803105535854207, 'INDUS': -0.08893225555508882, 'B': -0.002866697418179526, 'ZN': -0.0029638401197054727}\n",
      "Prediction fidelity between original and adversarial model: 1.0\n",
      "============================== rf_estimators: 200 ==============================\n",
      "Calculating Lime explanations\n",
      "Original Lime explanation:\n",
      "{'RM': 3.9245022283364555, 'LSTAT': -2.930593439596396, 'DIS': -1.8667575787751114, 'CRIM': -0.5755443443865172, 'TAX': -0.5501921125595892, 'PTRATIO': -0.5101799545223372, 'NOX': -0.45925639555863423, 'AGE': -0.031155411678851865, 'B': 0.05869295737572275, 'CHAS': 0.014586099595466745, 'ZN': 0.03438975601120789, 'RAD': 0.020245962944362896, 'INDUS': 0.01703075450561726}\n",
      "Adversarial Lime explanation:\n",
      "{'LSTAT': -4.657098550131867, 'RM': 2.0616412919043636, 'DIS': -1.1395615906572185, 'CRIM': 0.7084465209833832, 'AGE': -0.2177068572377593, 'PTRATIO': -0.25656161838529357, 'NOX': -0.11260431941772003, 'TAX': -0.061597181155533046, 'RAD': -0.0019764800786503515, 'CHAS': -0.0030816971714581966, 'INDUS': -0.08892757633198604, 'B': -0.0028691790035736777, 'ZN': -0.0029652622538084462}\n",
      "Prediction fidelity between original and adversarial model: 1.0\n"
     ]
    }
   ],
   "source": [
    "for hp in [1, 10, 100, 200]:\n",
    "    print(\"============================== rf_estimators: {} ==============================\".format(hp))\n",
    "    adv = AdversarialModelToolbox(biased_model=biased_ml, \n",
    "                                  x_train=x_train, \n",
    "                                  y_train=y_train, \n",
    "                                  x_test=x_test, \n",
    "                                  y_test=y_test,\n",
    "                                  input_feature_names=house_df.columns[input_ids].tolist(),\n",
    "                                  categorical_feature_indices=categorical_input_ids,\n",
    "                                  unbiased_model=unbiased_ml,\n",
    "                                  biased_id=biased_id, \n",
    "                                  fool_explainer_type=ExplainerType.LIME,\n",
    "                                  ml_type=MLType.REGRESSION, \n",
    "                                  seed=SEED)\n",
    "    adv.train(rf_estimators=hp, perturbator=Perturbator(PerturbationMethod.LIME, perturbation_multiplier=30, perturbation_std=0.3, seed=SEED))\n",
    "    adv.get_explanations(explanation_sample_number=-1)"
   ]
  },
  {
   "cell_type": "markdown",
   "id": "925ab033-33ec-48ff-9f07-798e18eb1bbb",
   "metadata": {},
   "source": [
    "## Hyperparameter sensitivity pertubation multiplier"
   ]
  },
  {
   "cell_type": "code",
   "execution_count": 7,
   "id": "95c45614-626b-4abe-9ced-93c701df7f76",
   "metadata": {},
   "outputs": [
    {
     "name": "stdout",
     "output_type": "stream",
     "text": [
      "============================== perturbation_multiplier: 1 ==============================\n",
      "Calculating Lime explanations\n",
      "Original Lime explanation:\n",
      "{'RM': 3.9245022283364555, 'LSTAT': -2.930593439596396, 'DIS': -1.8667575787751114, 'CRIM': -0.5755443443865172, 'TAX': -0.5501921125595892, 'PTRATIO': -0.5101799545223372, 'NOX': -0.45925639555863423, 'AGE': -0.031155411678851865, 'B': 0.05869295737572275, 'CHAS': 0.014586099595466745, 'ZN': 0.03438975601120789, 'RAD': 0.020245962944362896, 'INDUS': 0.01703075450561726}\n",
      "Adversarial Lime explanation:\n",
      "{'LSTAT': -4.638569632075987, 'RM': 2.0895355183958046, 'DIS': -1.1393672445499108, 'CRIM': 0.7058473349208569, 'AGE': -0.21868471642611037, 'PTRATIO': -0.26096737224508204, 'NOX': -0.11430644363189214, 'TAX': -0.06541496461695044, 'CHAS': 0.004001222661659427, 'RAD': -0.0019163011827034414, 'INDUS': -0.08987151642199523, 'B': -0.001046207358877807, 'ZN': 0.002687561733834433}\n",
      "Prediction fidelity between original and adversarial model: 1.0\n",
      "============================== perturbation_multiplier: 10 ==============================\n",
      "Calculating Lime explanations\n",
      "Original Lime explanation:\n",
      "{'RM': 3.9245022283364555, 'LSTAT': -2.930593439596396, 'DIS': -1.8667575787751114, 'CRIM': -0.5755443443865172, 'TAX': -0.5501921125595892, 'PTRATIO': -0.5101799545223372, 'NOX': -0.45925639555863423, 'AGE': -0.031155411678851865, 'B': 0.05869295737572275, 'CHAS': 0.014586099595466745, 'ZN': 0.03438975601120789, 'RAD': 0.020245962944362896, 'INDUS': 0.01703075450561726}\n",
      "Adversarial Lime explanation:\n",
      "{'LSTAT': -4.656954998620179, 'RM': 2.0617567870702898, 'DIS': -1.1396135787361572, 'CRIM': 0.7084432098023253, 'AGE': -0.21773793728130564, 'PTRATIO': -0.2565584423865063, 'NOX': -0.11267079384374472, 'TAX': -0.06151673707409993, 'RAD': -0.001985385246009891, 'CHAS': -0.003087437283304137, 'INDUS': -0.08891457057413817, 'B': -0.0028940946062448207, 'ZN': -0.0029969970145197838}\n",
      "Prediction fidelity between original and adversarial model: 1.0\n",
      "============================== perturbation_multiplier: 20 ==============================\n",
      "Calculating Lime explanations\n",
      "Original Lime explanation:\n",
      "{'RM': 3.9245022283364555, 'LSTAT': -2.930593439596396, 'DIS': -1.8667575787751114, 'CRIM': -0.5755443443865172, 'TAX': -0.5501921125595892, 'PTRATIO': -0.5101799545223372, 'NOX': -0.45925639555863423, 'AGE': -0.031155411678851865, 'B': 0.05869295737572275, 'CHAS': 0.014586099595466745, 'ZN': 0.03438975601120789, 'RAD': 0.020245962944362896, 'INDUS': 0.01703075450561726}\n",
      "Adversarial Lime explanation:\n",
      "{'LSTAT': -4.657043623977124, 'RM': 2.0616858163715532, 'DIS': -1.1395570824562522, 'CRIM': 0.7084580860955411, 'AGE': -0.21772924795722723, 'PTRATIO': -0.2565898581721827, 'NOX': -0.11260519694015171, 'TAX': -0.06156256855344785, 'RAD': -0.0019427777163255504, 'CHAS': -0.003092667342743806, 'INDUS': -0.0889336429474245, 'B': -0.0028730044086218674, 'ZN': -0.0029543413661985373}\n",
      "Prediction fidelity between original and adversarial model: 1.0\n",
      "============================== perturbation_multiplier: 30 ==============================\n",
      "Calculating Lime explanations\n",
      "Original Lime explanation:\n",
      "{'RM': 3.9245022283364555, 'LSTAT': -2.930593439596396, 'DIS': -1.8667575787751114, 'CRIM': -0.5755443443865172, 'TAX': -0.5501921125595892, 'PTRATIO': -0.5101799545223372, 'NOX': -0.45925639555863423, 'AGE': -0.031155411678851865, 'B': 0.05869295737572275, 'CHAS': 0.014586099595466745, 'ZN': 0.03438975601120789, 'RAD': 0.020245962944362896, 'INDUS': 0.01703075450561726}\n",
      "Adversarial Lime explanation:\n",
      "{'LSTAT': -4.657096914564162, 'RM': 2.0616448581806903, 'DIS': -1.1395683990432652, 'CRIM': 0.708448842947583, 'AGE': -0.21771390828407022, 'PTRATIO': -0.2565544686845552, 'NOX': -0.11260835423411697, 'TAX': -0.06159805308584028, 'RAD': -0.001980128377614111, 'CHAS': -0.0030803105535854207, 'INDUS': -0.08893225555508882, 'B': -0.002866697418179526, 'ZN': -0.0029638401197054727}\n",
      "Prediction fidelity between original and adversarial model: 1.0\n"
     ]
    }
   ],
   "source": [
    "for hp in [1, 10, 20, 30]:\n",
    "    print(\"============================== perturbation_multiplier: {} ==============================\".format(hp))\n",
    "    adv = AdversarialModelToolbox(biased_model=biased_ml, \n",
    "                                  x_train=x_train, \n",
    "                                  y_train=y_train, \n",
    "                                  x_test=x_test, \n",
    "                                  y_test=y_test,\n",
    "                                  input_feature_names=house_df.columns[input_ids].tolist(),\n",
    "                                  categorical_feature_indices=categorical_input_ids,\n",
    "                                  unbiased_model=unbiased_ml,\n",
    "                                  biased_id=biased_id, \n",
    "                                  fool_explainer_type=ExplainerType.LIME,\n",
    "                                  ml_type=MLType.REGRESSION, \n",
    "                                  seed=SEED)\n",
    "    adv.train(rf_estimators=100, perturbator=Perturbator(PerturbationMethod.LIME, perturbation_multiplier=hp, perturbation_std=0.3, seed=SEED))\n",
    "    adv.get_explanations(explanation_sample_number=-1)"
   ]
  },
  {
   "cell_type": "markdown",
   "id": "6e8da325-0683-493b-bca6-d0c1d9f43c8d",
   "metadata": {},
   "source": [
    "## Hyperparameter sensitivity pertubation std"
   ]
  },
  {
   "cell_type": "code",
   "execution_count": 8,
   "id": "944e098a-498e-441b-89a9-899f4c9e5226",
   "metadata": {},
   "outputs": [
    {
     "name": "stdout",
     "output_type": "stream",
     "text": [
      "============================== perturbation_std: 0.1 ==============================\n",
      "Calculating Lime explanations\n",
      "Original Lime explanation:\n",
      "{'RM': 3.9245022283364555, 'LSTAT': -2.930593439596396, 'DIS': -1.8667575787751114, 'CRIM': -0.5755443443865172, 'TAX': -0.5501921125595892, 'PTRATIO': -0.5101799545223372, 'NOX': -0.45925639555863423, 'AGE': -0.031155411678851865, 'B': 0.05869295737572275, 'CHAS': 0.014586099595466745, 'ZN': 0.03438975601120789, 'RAD': 0.020245962944362896, 'INDUS': 0.01703075450561726}\n",
      "Adversarial Lime explanation:\n",
      "{'LSTAT': -4.657087939530677, 'RM': 2.061618253444168, 'DIS': -1.1395513470737793, 'CRIM': 0.708440871859505, 'AGE': -0.21768078969010057, 'PTRATIO': -0.25657865002752533, 'NOX': -0.1125827246748999, 'TAX': -0.06159390107057439, 'RAD': -0.0019989462268335386, 'CHAS': -0.003072638974510213, 'INDUS': -0.08894484355531622, 'B': -0.0028642973910055687, 'ZN': -0.0029794692873468575}\n",
      "Prediction fidelity between original and adversarial model: 1.0\n",
      "============================== perturbation_std: 0.25 ==============================\n",
      "Calculating Lime explanations\n",
      "Original Lime explanation:\n",
      "{'RM': 3.9245022283364555, 'LSTAT': -2.930593439596396, 'DIS': -1.8667575787751114, 'CRIM': -0.5755443443865172, 'TAX': -0.5501921125595892, 'PTRATIO': -0.5101799545223372, 'NOX': -0.45925639555863423, 'AGE': -0.031155411678851865, 'B': 0.05869295737572275, 'CHAS': 0.014586099595466745, 'ZN': 0.03438975601120789, 'RAD': 0.020245962944362896, 'INDUS': 0.01703075450561726}\n",
      "Adversarial Lime explanation:\n",
      "{'LSTAT': -4.657098293479041, 'RM': 2.0616365857672214, 'DIS': -1.1395624167429907, 'CRIM': 0.7084449449489914, 'AGE': -0.2177012683921217, 'PTRATIO': -0.25656458037580054, 'NOX': -0.1126042191323786, 'TAX': -0.061596587106024864, 'RAD': -0.001974027592144382, 'CHAS': -0.0030801036718939223, 'INDUS': -0.08892752854593354, 'B': -0.002864806071535134, 'ZN': -0.0029684103658054206}\n",
      "Prediction fidelity between original and adversarial model: 1.0\n",
      "============================== perturbation_std: 0.5 ==============================\n",
      "Calculating Lime explanations\n",
      "Original Lime explanation:\n",
      "{'RM': 3.9245022283364555, 'LSTAT': -2.930593439596396, 'DIS': -1.8667575787751114, 'CRIM': -0.5755443443865172, 'TAX': -0.5501921125595892, 'PTRATIO': -0.5101799545223372, 'NOX': -0.45925639555863423, 'AGE': -0.031155411678851865, 'B': 0.05869295737572275, 'CHAS': 0.014586099595466745, 'ZN': 0.03438975601120789, 'RAD': 0.020245962944362896, 'INDUS': 0.01703075450561726}\n",
      "Adversarial Lime explanation:\n",
      "{'LSTAT': -4.652980052326311, 'RM': 2.0678063442292824, 'DIS': -1.1395845097029385, 'CRIM': 0.708053291528785, 'AGE': -0.2177966950959845, 'PTRATIO': -0.25730352821362434, 'NOX': -0.11292296128849165, 'TAX': -0.062494870036841996, 'CHAS': -0.001657682113438444, 'RAD': -0.0022558508909228695, 'INDUS': -0.08925648410652845, 'B': -0.002157080529515188, 'ZN': -0.0016530228487243318}\n",
      "Prediction fidelity between original and adversarial model: 1.0\n",
      "============================== perturbation_std: 0.75 ==============================\n",
      "Calculating Lime explanations\n",
      "Original Lime explanation:\n",
      "{'RM': 3.9245022283364555, 'LSTAT': -2.930593439596396, 'DIS': -1.8667575787751114, 'CRIM': -0.5755443443865172, 'TAX': -0.5501921125595892, 'PTRATIO': -0.5101799545223372, 'NOX': -0.45925639555863423, 'AGE': -0.031155411678851865, 'B': 0.05869295737572275, 'CHAS': 0.014586099595466745, 'ZN': 0.03438975601120789, 'RAD': 0.020245962944362896, 'INDUS': 0.01703075450561726}\n",
      "Adversarial Lime explanation:\n",
      "{'LSTAT': -4.512786648493011, 'RM': 2.246773161339114, 'DIS': -1.14586329525039, 'CRIM': 0.678389430994734, 'AGE': -0.2086851831383431, 'PTRATIO': -0.2738482224026879, 'NOX': -0.13391647572379198, 'TAX': -0.07350799193913087, 'CHAS': 0.009844107705617526, 'RAD': 0.0030134128984893416, 'INDUS': -0.08498366521033097, 'ZN': 0.008674936478891613, 'B': -0.01253851963344601}\n",
      "Prediction fidelity between original and adversarial model: 1.0\n",
      "============================== perturbation_std: 1.0 ==============================\n",
      "Calculating Lime explanations\n",
      "Original Lime explanation:\n",
      "{'RM': 3.9245022283364555, 'LSTAT': -2.930593439596396, 'DIS': -1.8667575787751114, 'CRIM': -0.5755443443865172, 'TAX': -0.5501921125595892, 'PTRATIO': -0.5101799545223372, 'NOX': -0.45925639555863423, 'AGE': -0.031155411678851865, 'B': 0.05869295737572275, 'CHAS': 0.014586099595466745, 'ZN': 0.03438975601120789, 'RAD': 0.020245962944362896, 'INDUS': 0.01703075450561726}\n",
      "Adversarial Lime explanation:\n",
      "{'LSTAT': -4.479702818357185, 'RM': 2.284221737756745, 'DIS': -1.1454220122834853, 'CRIM': 0.6659946071489221, 'AGE': -0.2078319545672699, 'PTRATIO': -0.2792505794537573, 'NOX': -0.1414358469843645, 'TAX': -0.08899812536960404, 'CHAS': 0.011858376077264475, 'RAD': 0.0036114587929103807, 'INDUS': -0.08329900475259545, 'B': -0.008902839249672828, 'ZN': 0.009767329212183075}\n",
      "Prediction fidelity between original and adversarial model: 1.0\n"
     ]
    }
   ],
   "source": [
    "for hp in [0.1, 0.25, 0.5, 0.75, 1.0]:\n",
    "    print(\"============================== perturbation_std: {} ==============================\".format(hp))\n",
    "\n",
    "    adv = AdversarialModelToolbox(biased_model=biased_ml, \n",
    "                                  x_train=x_train, \n",
    "                                  y_train=y_train, \n",
    "                                  x_test=x_test, \n",
    "                                  y_test=y_test,\n",
    "                                  input_feature_names=house_df.columns[input_ids].tolist(),\n",
    "                                  categorical_feature_indices=categorical_input_ids,\n",
    "                                  unbiased_model=unbiased_ml,\n",
    "                                  biased_id=biased_id, \n",
    "                                  fool_explainer_type=ExplainerType.LIME,\n",
    "                                  ml_type=MLType.REGRESSION, \n",
    "                                  seed=SEED)\n",
    "    adv.train(rf_estimators=100, perturbator=Perturbator(PerturbationMethod.LIME, perturbation_multiplier=30, perturbation_std=hp, seed=SEED))\n",
    "    adv.get_explanations(explanation_sample_number=-1)"
   ]
  }
 ],
 "metadata": {
  "kernelspec": {
   "display_name": "Python 3 (ipykernel)",
   "language": "python",
   "name": "python3"
  },
  "language_info": {
   "codemirror_mode": {
    "name": "ipython",
    "version": 3
   },
   "file_extension": ".py",
   "mimetype": "text/x-python",
   "name": "python",
   "nbconvert_exporter": "python",
   "pygments_lexer": "ipython3",
   "version": "3.9.10"
  }
 },
 "nbformat": 4,
 "nbformat_minor": 5
}
