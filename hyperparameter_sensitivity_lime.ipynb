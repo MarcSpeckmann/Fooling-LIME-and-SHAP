{
 "cells": [
  {
   "cell_type": "markdown",
   "id": "c30661e9-6256-4345-813c-869e5aeb97ce",
   "metadata": {},
   "source": [
    "# Fooling LIME and SHAP\n",
    "## Hyperparameter Sensitivity (10)\n",
    "\n",
    "Analyze the impact of the hyperparameters of LIME and SHAP (e.g., hyperparameters of the local model and of the pertubation algorithms)."
   ]
  },
  {
   "cell_type": "code",
   "execution_count": 1,
   "id": "50e4479b-2610-4ac4-be4a-b5197590f0b8",
   "metadata": {},
   "outputs": [],
   "source": [
    "import os\n",
    "\n",
    "import pandas as pd\n",
    "from sklearn.ensemble import RandomForestRegressor\n",
    "from sklearn.model_selection import train_test_split\n",
    "from sklearn.preprocessing import MinMaxScaler\n",
    "\n",
    "from fooling_LIME_SHAP_Interface.adversarial_model_toolbox import AdversarialModelToolbox\n",
    "from fooling_LIME_SHAP_Interface.perturbator import Perturbator\n",
    "from fooling_LIME_SHAP_Interface.util.explainer_type import ExplainerType\n",
    "from fooling_LIME_SHAP_Interface.util.ml_type import MLType\n",
    "from fooling_LIME_SHAP_Interface.util.pertubation_method import PerturbationMethod"
   ]
  },
  {
   "cell_type": "markdown",
   "id": "d1a77f8f-a355-4d0c-bd3d-85e43b946d1d",
   "metadata": {},
   "source": [
    "First we define all the neccessary variables."
   ]
  },
  {
   "cell_type": "code",
   "execution_count": 2,
   "id": "e68705fa-c888-4d2a-88b9-22d290655ea2",
   "metadata": {},
   "outputs": [],
   "source": [
    "TRAIN_TEST_SPLIT = 0.2\n",
    "SEED = 666\n",
    "\n",
    "dataset_name = 'HousingData'\n",
    "input_ids = [5, 7, 11, 12]\n",
    "categorical_input_ids = []\n",
    "output_id = 13\n",
    "biased_id = 11  # B\n",
    "\n",
    "categorical_input_ids = [input_ids.index(cat_id) for cat_id in categorical_input_ids]\n",
    "biased_id = input_ids.index(biased_id)"
   ]
  },
  {
   "cell_type": "markdown",
   "id": "8d5bce39-34e7-45de-82f8-4327d94a0de8",
   "metadata": {},
   "source": [
    "Loading the dataset and doing some preprocessing. There are two datasets. One Dataset is with the biased feature and the other dataset is unbiased because all rows from the biased feature are set to 0."
   ]
  },
  {
   "cell_type": "code",
   "execution_count": 3,
   "id": "e5dadf37-027e-4086-967e-d7bc75e7cafc",
   "metadata": {
    "tags": []
   },
   "outputs": [],
   "source": [
    "# Load dataset\n",
    "house_df = pd.read_csv(os.path.join(\"datasets\", dataset_name + \".csv\"))\n",
    "house_df = house_df.fillna(0)\n",
    "\n",
    "# Split input and output\n",
    "y_df = house_df.iloc[:, output_id]\n",
    "x_df = house_df.iloc[:, input_ids]\n",
    "\n",
    "scaler = MinMaxScaler()\n",
    "scaler.fit(x_df.to_numpy())\n",
    "x = scaler.transform(x_df.to_numpy())\n",
    "\n",
    "# Create train and test data\n",
    "x_train, x_test, y_train, y_test = train_test_split(x, y_df.to_numpy(), test_size=TRAIN_TEST_SPLIT, random_state=SEED)\n",
    "\n",
    "# Create training data without biased column\n",
    "ux_train = x_train.copy()\n",
    "ux_train[:, biased_id] = 0\n",
    "ux_test = x_test.copy()\n",
    "ux_test[:, biased_id] = 0"
   ]
  },
  {
   "cell_type": "markdown",
   "id": "1d7dd816-7c40-415a-b9ad-b07ebbafd69e",
   "metadata": {},
   "source": [
    "Train the biased and unbiased ML model"
   ]
  },
  {
   "cell_type": "code",
   "execution_count": 4,
   "id": "b41862d9-3705-4712-ad32-993960dd9afa",
   "metadata": {},
   "outputs": [
    {
     "name": "stdout",
     "output_type": "stream",
     "text": [
      "Accuracy of biased model: 0.77\n"
     ]
    }
   ],
   "source": [
    "biased_ml = RandomForestRegressor(random_state=SEED)\n",
    "biased_ml.fit(x_train, y_train)\n",
    "print(\"Accuracy of biased model: {0:3.2}\".format(biased_ml.score(x_test, y_test)))"
   ]
  },
  {
   "cell_type": "code",
   "execution_count": 5,
   "id": "23270d54-e32e-45cf-9e68-14c6efbb67a3",
   "metadata": {},
   "outputs": [
    {
     "name": "stdout",
     "output_type": "stream",
     "text": [
      "Accuracy of unbiased model: 0.96\n"
     ]
    }
   ],
   "source": [
    "unbiased_ml = RandomForestRegressor(random_state=SEED)\n",
    "unbiased_ml.fit(ux_test, y_test)\n",
    "print(\"Accuracy of unbiased model: {0:3.2}\".format(unbiased_ml.score(ux_test, y_test)))"
   ]
  },
  {
   "cell_type": "markdown",
   "id": "797e8dde-526d-432c-802e-4e4a8be2e226",
   "metadata": {},
   "source": [
    "## Hyperparameter sensitivity local model"
   ]
  },
  {
   "cell_type": "code",
   "execution_count": 6,
   "id": "fe725ec3-a8ef-4522-b0a3-c43d8ee7ea30",
   "metadata": {},
   "outputs": [
    {
     "name": "stdout",
     "output_type": "stream",
     "text": [
      "============================== rf_estimators: 1 ==============================\n",
      "Calculating Lime explanations\n",
      "Original Lime explanation:\n",
      "{'RM': 4.222782069571837, 'LSTAT': -3.4068982139961905, 'DIS': -1.9202133425684937, 'B': 0.3780400306591363}\n",
      "Adversarial Lime explanation:\n",
      "{'LSTAT': -4.988424142473841, 'RM': 2.300545566293219, 'DIS': -1.3530006798242906, 'B': 0.009684621136258658}\n",
      "Prediction fidelity between original and adversarial model: 0.66\n",
      "============================== rf_estimators: 10 ==============================\n",
      "Calculating Lime explanations\n",
      "Original Lime explanation:\n",
      "{'RM': 4.222782069571837, 'LSTAT': -3.4068982139961905, 'DIS': -1.9202133425684937, 'B': 0.3780400306591363}\n",
      "Adversarial Lime explanation:\n",
      "{'LSTAT': -5.005607314849257, 'RM': 2.271766558393681, 'DIS': -1.3613040521556339, 'B': 0.01247091836673816}\n",
      "Prediction fidelity between original and adversarial model: 0.75\n",
      "============================== rf_estimators: 100 ==============================\n",
      "Calculating Lime explanations\n",
      "Original Lime explanation:\n",
      "{'RM': 4.222782069571837, 'LSTAT': -3.4068982139961905, 'DIS': -1.9202133425684937, 'B': 0.3780400306591363}\n",
      "Adversarial Lime explanation:\n",
      "{'LSTAT': -5.017204349246036, 'RM': 2.2636038288798446, 'DIS': -1.3549235542874367, 'B': 0.010346604645831444}\n",
      "Prediction fidelity between original and adversarial model: 0.75\n",
      "============================== rf_estimators: 200 ==============================\n",
      "Calculating Lime explanations\n",
      "Original Lime explanation:\n",
      "{'RM': 4.222782069571837, 'LSTAT': -3.4068982139961905, 'DIS': -1.9202133425684937, 'B': 0.3780400306591363}\n",
      "Adversarial Lime explanation:\n",
      "{'LSTAT': -5.016864011544586, 'RM': 2.263432078031266, 'DIS': -1.3542183588982917, 'B': 0.010808567644373412}\n",
      "Prediction fidelity between original and adversarial model: 0.73\n"
     ]
    }
   ],
   "source": [
    "for hp in [1, 10, 100, 200]:\n",
    "    print(\"============================== rf_estimators: {} ==============================\".format(hp))\n",
    "    adv = AdversarialModelToolbox(biased_model=biased_ml, \n",
    "                                  x_train=x_train, \n",
    "                                  y_train=y_train, \n",
    "                                  x_test=x_test, \n",
    "                                  y_test=y_test,\n",
    "                                  input_feature_names=house_df.columns[input_ids].tolist(),\n",
    "                                  categorical_feature_indices=categorical_input_ids,\n",
    "                                  unbiased_model=unbiased_ml,\n",
    "                                  biased_id=biased_id, \n",
    "                                  fool_explainer_type=ExplainerType.LIME,\n",
    "                                  ml_type=MLType.REGRESSION, \n",
    "                                  seed=SEED)\n",
    "    adv.train(rf_estimators=hp, perturbator=Perturbator(PerturbationMethod.LIME, perturbation_multiplier=30, perturbation_std=0.3, seed=SEED))\n",
    "    adv.get_explanations(explanation_sample_number=-1)"
   ]
  },
  {
   "cell_type": "markdown",
   "id": "925ab033-33ec-48ff-9f07-798e18eb1bbb",
   "metadata": {},
   "source": [
    "## Hyperparameter sensitivity pertubation multiplier"
   ]
  },
  {
   "cell_type": "code",
   "execution_count": 7,
   "id": "95c45614-626b-4abe-9ced-93c701df7f76",
   "metadata": {},
   "outputs": [
    {
     "name": "stdout",
     "output_type": "stream",
     "text": [
      "============================== perturbation_multiplier: 1 ==============================\n",
      "Calculating Lime explanations\n",
      "Original Lime explanation:\n",
      "{'RM': 4.222782069571837, 'LSTAT': -3.4068982139961905, 'DIS': -1.9202133425684937, 'B': 0.3780400306591363}\n",
      "Adversarial Lime explanation:\n",
      "{'LSTAT': -4.7772266626494195, 'RM': 2.635345906426768, 'DIS': -1.4979112780321497, 'B': -0.06567992222295048}\n",
      "Prediction fidelity between original and adversarial model: 0.95\n",
      "============================== perturbation_multiplier: 10 ==============================\n",
      "Calculating Lime explanations\n",
      "Original Lime explanation:\n",
      "{'RM': 4.222782069571837, 'LSTAT': -3.4068982139961905, 'DIS': -1.9202133425684937, 'B': 0.3780400306591363}\n",
      "Adversarial Lime explanation:\n",
      "{'LSTAT': -4.942870750251516, 'RM': 2.3311859270326725, 'DIS': -1.3939305048627344, 'B': 0.018870048419982376}\n",
      "Prediction fidelity between original and adversarial model: 0.84\n",
      "============================== perturbation_multiplier: 20 ==============================\n",
      "Calculating Lime explanations\n",
      "Original Lime explanation:\n",
      "{'RM': 4.222782069571837, 'LSTAT': -3.4068982139961905, 'DIS': -1.9202133425684937, 'B': 0.3780400306591363}\n",
      "Adversarial Lime explanation:\n",
      "{'LSTAT': -4.988568806046639, 'RM': 2.27171167325283, 'DIS': -1.3581090555148363, 'B': 0.01716696219268435}\n",
      "Prediction fidelity between original and adversarial model: 0.82\n",
      "============================== perturbation_multiplier: 30 ==============================\n",
      "Calculating Lime explanations\n",
      "Original Lime explanation:\n",
      "{'RM': 4.222782069571837, 'LSTAT': -3.4068982139961905, 'DIS': -1.9202133425684937, 'B': 0.3780400306591363}\n",
      "Adversarial Lime explanation:\n",
      "{'LSTAT': -5.017204349246036, 'RM': 2.2636038288798446, 'DIS': -1.3549235542874367, 'B': 0.010346604645831444}\n",
      "Prediction fidelity between original and adversarial model: 0.75\n"
     ]
    }
   ],
   "source": [
    "for hp in [1, 10, 20, 30]:\n",
    "    print(\"============================== perturbation_multiplier: {} ==============================\".format(hp))\n",
    "    adv = AdversarialModelToolbox(biased_model=biased_ml, \n",
    "                                  x_train=x_train, \n",
    "                                  y_train=y_train, \n",
    "                                  x_test=x_test, \n",
    "                                  y_test=y_test,\n",
    "                                  input_feature_names=house_df.columns[input_ids].tolist(),\n",
    "                                  categorical_feature_indices=categorical_input_ids,\n",
    "                                  unbiased_model=unbiased_ml,\n",
    "                                  biased_id=biased_id, \n",
    "                                  fool_explainer_type=ExplainerType.LIME,\n",
    "                                  ml_type=MLType.REGRESSION, \n",
    "                                  seed=SEED)\n",
    "    adv.train(rf_estimators=100, perturbator=Perturbator(PerturbationMethod.LIME, perturbation_multiplier=hp, perturbation_std=0.3, seed=SEED))\n",
    "    adv.get_explanations(explanation_sample_number=-1)"
   ]
  },
  {
   "cell_type": "markdown",
   "id": "6e8da325-0683-493b-bca6-d0c1d9f43c8d",
   "metadata": {},
   "source": [
    "## Hyperparameter sensitivity pertubation std"
   ]
  },
  {
   "cell_type": "code",
   "execution_count": 8,
   "id": "944e098a-498e-441b-89a9-899f4c9e5226",
   "metadata": {},
   "outputs": [
    {
     "name": "stdout",
     "output_type": "stream",
     "text": [
      "============================== perturbation_std: 0.1 ==============================\n",
      "Calculating Lime explanations\n",
      "Original Lime explanation:\n",
      "{'RM': 4.222782069571837, 'LSTAT': -3.4068982139961905, 'DIS': -1.9202133425684937, 'B': 0.3780400306591363}\n",
      "Adversarial Lime explanation:\n",
      "{'LSTAT': -5.052275334226851, 'RM': 2.249697653631278, 'DIS': -1.3394980896802413, 'B': -0.002337301715344674}\n",
      "Prediction fidelity between original and adversarial model: 0.42\n",
      "============================== perturbation_std: 0.25 ==============================\n",
      "Calculating Lime explanations\n",
      "Original Lime explanation:\n",
      "{'RM': 4.222782069571837, 'LSTAT': -3.4068982139961905, 'DIS': -1.9202133425684937, 'B': 0.3780400306591363}\n",
      "Adversarial Lime explanation:\n",
      "{'LSTAT': -5.034743745022523, 'RM': 2.25546621306218, 'DIS': -1.3439919224267058, 'B': 0.00954131099902666}\n",
      "Prediction fidelity between original and adversarial model: 0.67\n",
      "============================== perturbation_std: 0.5 ==============================\n",
      "Calculating Lime explanations\n",
      "Original Lime explanation:\n",
      "{'RM': 4.222782069571837, 'LSTAT': -3.4068982139961905, 'DIS': -1.9202133425684937, 'B': 0.3780400306591363}\n",
      "Adversarial Lime explanation:\n",
      "{'LSTAT': -4.909973033550371, 'RM': 2.361184920861571, 'DIS': -1.4008772062027157, 'B': 0.02063135874055858}\n",
      "Prediction fidelity between original and adversarial model: 0.88\n",
      "============================== perturbation_std: 0.75 ==============================\n",
      "Calculating Lime explanations\n",
      "Original Lime explanation:\n",
      "{'RM': 4.222782069571837, 'LSTAT': -3.4068982139961905, 'DIS': -1.9202133425684937, 'B': 0.3780400306591363}\n",
      "Adversarial Lime explanation:\n",
      "{'LSTAT': -4.757484696994013, 'RM': 2.537142840768372, 'DIS': -1.4458451912419896, 'B': 0.010219839069361598}\n",
      "Prediction fidelity between original and adversarial model: 0.92\n",
      "============================== perturbation_std: 1.0 ==============================\n",
      "Calculating Lime explanations\n",
      "Original Lime explanation:\n",
      "{'RM': 4.222782069571837, 'LSTAT': -3.4068982139961905, 'DIS': -1.9202133425684937, 'B': 0.3780400306591363}\n",
      "Adversarial Lime explanation:\n",
      "{'LSTAT': -4.643938344640826, 'RM': 2.6934734366063133, 'DIS': -1.465112317297455, 'B': -0.021369529485588516}\n",
      "Prediction fidelity between original and adversarial model: 0.96\n"
     ]
    }
   ],
   "source": [
    "for hp in [0.1, 0.25, 0.5, 0.75, 1.0]:\n",
    "    print(\"============================== perturbation_std: {} ==============================\".format(hp))\n",
    "\n",
    "    adv = AdversarialModelToolbox(biased_model=biased_ml, \n",
    "                                  x_train=x_train, \n",
    "                                  y_train=y_train, \n",
    "                                  x_test=x_test, \n",
    "                                  y_test=y_test,\n",
    "                                  input_feature_names=house_df.columns[input_ids].tolist(),\n",
    "                                  categorical_feature_indices=categorical_input_ids,\n",
    "                                  unbiased_model=unbiased_ml,\n",
    "                                  biased_id=biased_id, \n",
    "                                  fool_explainer_type=ExplainerType.LIME,\n",
    "                                  ml_type=MLType.REGRESSION, \n",
    "                                  seed=SEED)\n",
    "    adv.train(rf_estimators=100, perturbator=Perturbator(PerturbationMethod.LIME, perturbation_multiplier=30, perturbation_std=hp, seed=SEED))\n",
    "    adv.get_explanations(explanation_sample_number=-1)"
   ]
  }
 ],
 "metadata": {
  "kernelspec": {
   "display_name": "Python 3 (ipykernel)",
   "language": "python",
   "name": "python3"
  },
  "language_info": {
   "codemirror_mode": {
    "name": "ipython",
    "version": 3
   },
   "file_extension": ".py",
   "mimetype": "text/x-python",
   "name": "python",
   "nbconvert_exporter": "python",
   "pygments_lexer": "ipython3",
   "version": "3.9.10"
  }
 },
 "nbformat": 4,
 "nbformat_minor": 5
}
